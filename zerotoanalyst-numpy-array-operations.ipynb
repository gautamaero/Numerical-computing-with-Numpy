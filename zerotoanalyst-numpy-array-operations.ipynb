{
 "cells": [
  {
   "cell_type": "markdown",
   "id": "49885cc1",
   "metadata": {},
   "source": [
    "> ## **Assignment - Numpy Array Operations** \n",
    ">\n",
    "> This assignment is part of the course [\"Data Analyst Bootcamp by Jovian\"](http://zerotoanalyst.com). The objective of this assignment is to develop a solid understanding of Numpy array operations. In this assignment you will:\n",
    "> \n",
    "> 1. Pick 5 interesting Numpy array functions by going through the documentation: https://numpy.org/doc/stable/reference/routines.html \n",
    "> 2. Run and modify this Jupyter notebook to illustrate their usage (some explanation and 3 examples for each function). Use your imagination to come up with interesting and unique examples.\n",
    "> 3. Upload this notebook to your Jovian profile using `jovian.commit` and make a submission here: https://jovian.ai/learn/zero-to-data-analyst-bootcamp/assignment/assignment-4-exploring-numpy-functions\n",
    "> 4. (Optional) Share your notebook online (on Twitter, LinkedIn, Facebook) and with the course community.\n",
    "> 5. (Optional) Check out the notebooks shared by other participants and give feedback & appreciation.\n",
    ">\n",
    "> Try to give pick a theme for your assignment and give your notebook an interesting title e.g. \"All about Numpy array operations\", \"5 Numpy functions you didn't know you needed\", \"A beginner's guide to broadcasting in Numpy\", \"Interesting ways to create Numpy arrays\", \"Trigonometic functions in Numpy\", \"How to use Python for Linear Algebra\" etc.\n",
    ">\n",
    "> **NOTE**: Remove this cell containing explanations before submitting or sharing your notebook online - to make it more presentable.\n",
    "\n",
    "\n"
   ]
  },
  {
   "cell_type": "markdown",
   "id": "e59e6899",
   "metadata": {},
   "source": [
    "# Title Here (change this)\n",
    "\n",
    "Write a short introduction about Numpy and list the chosen functions. (change this)\n",
    "\n",
    "- np.concatenate = used to put the two array aside \n",
    "- np.linalg.eig= used the linalg which is linearalgebra module of numpy and find eigen value and eigen vector\n",
    "- np.arange(x).reshape(a,b)= use the numpy module to distribute the x into a&b (dimension) where a*b=x number of element\n",
    "- np.fft,fftfreq= use the numpy module fast fourier transform and its module to find freq of the given signal , which is useful in DSP \n",
    "- np.where =find the desired values in the dataframe and list\n",
    "\n",
    "The recommended way to run this notebook is to click the \"Run\" button at the top of this page, and select \"Run on Binder\". This will run the notebook on mybinder.org, a free online service for running Jupyter notebooks."
   ]
  },
  {
   "cell_type": "code",
   "execution_count": 35,
   "id": "772c4633",
   "metadata": {},
   "outputs": [],
   "source": [
    "!pip install jovian --upgrade -q"
   ]
  },
  {
   "cell_type": "code",
   "execution_count": 36,
   "id": "46da33fb",
   "metadata": {},
   "outputs": [],
   "source": [
    "import jovian"
   ]
  },
  {
   "cell_type": "code",
   "execution_count": null,
   "id": "d72d6524",
   "metadata": {},
   "outputs": [
    {
     "data": {
      "application/javascript": [
       "window.require && require([\"base/js/namespace\"],function(Jupyter){Jupyter.notebook.save_checkpoint()})"
      ],
      "text/plain": [
       "<IPython.core.display.Javascript object>"
      ]
     },
     "metadata": {},
     "output_type": "display_data"
    }
   ],
   "source": [
    "jovian.commit(project='zerotoanalyst-numpy-array-operations')"
   ]
  },
  {
   "cell_type": "markdown",
   "id": "a3222109",
   "metadata": {},
   "source": [
    "Let's begin by importing Numpy and listing out the functions covered in this notebook."
   ]
  },
  {
   "cell_type": "code",
   "execution_count": 5,
   "id": "4b2266c9",
   "metadata": {},
   "outputs": [],
   "source": [
    "import numpy as np"
   ]
  },
  {
   "cell_type": "markdown",
   "id": "101a8860",
   "metadata": {},
   "source": [
    "## Function 1 - np.concatenate (change this)\n",
    "\n",
    "Add some explanation about the function in your own words\n",
    "\n"
   ]
  },
  {
   "cell_type": "code",
   "execution_count": 12,
   "id": "7735771b",
   "metadata": {},
   "outputs": [
    {
     "data": {
      "text/plain": [
       "array([[ 1.,  2.,  5.,  6.,  7.],\n",
       "       [ 3.,  4.,  8.,  9., 10.]])"
      ]
     },
     "execution_count": 12,
     "metadata": {},
     "output_type": "execute_result"
    }
   ],
   "source": [
    "# Example 1 - working (change this)\n",
    "arr1 = [[1, 2], \n",
    "        [3, 4.]]\n",
    "\n",
    "arr2 = [[5, 6, 7], \n",
    "        [8, 9, 10]]\n",
    "\n",
    "\n",
    "\n",
    "\n",
    "\n",
    "np.concatenate((arr1, arr2), axis=1)"
   ]
  },
  {
   "cell_type": "markdown",
   "id": "16d7b452",
   "metadata": {},
   "source": [
    "'''Concatenation means putting things aside to each other and numpy package inbuilt function concatenate to put aside rows or\n",
    "coloumnwise'''"
   ]
  },
  {
   "cell_type": "code",
   "execution_count": 14,
   "id": "ea7abd08",
   "metadata": {},
   "outputs": [
    {
     "data": {
      "text/plain": [
       "array([[ 11,  12,  15],\n",
       "       [ 13,  14,  15],\n",
       "       [ -2,  22,  15],\n",
       "       [  5,   9, -15]])"
      ]
     },
     "execution_count": 14,
     "metadata": {},
     "output_type": "execute_result"
    }
   ],
   "source": [
    "# Example 2 - working\n",
    "arr3=[[11,12,15],\n",
    "     [13,14,15]]\n",
    "arr4=[[-2,22,15],\n",
    "     [5,9,-15]]\n",
    "np.concatenate((arr3,arr4),axis=0)"
   ]
  },
  {
   "cell_type": "markdown",
   "id": "03e569b4",
   "metadata": {},
   "source": [
    "# '''here matrix element has been put aside below the element of the first matrix i.e element has been added just below the coloumn '''\n"
   ]
  },
  {
   "cell_type": "code",
   "execution_count": 18,
   "id": "401b9aee",
   "metadata": {},
   "outputs": [
    {
     "ename": "ValueError",
     "evalue": "all the input array dimensions for the concatenation axis must match exactly, but along dimension 1, the array at index 0 has size 2 and the array at index 1 has size 3",
     "output_type": "error",
     "traceback": [
      "\u001b[0;31m---------------------------------------------------------------------------\u001b[0m",
      "\u001b[0;31mValueError\u001b[0m                                Traceback (most recent call last)",
      "\u001b[0;32m/tmp/ipykernel_36/185693104.py\u001b[0m in \u001b[0;36m<module>\u001b[0;34m\u001b[0m\n\u001b[1;32m      6\u001b[0m         [8, 9, 10]]\n\u001b[1;32m      7\u001b[0m \u001b[0;34m\u001b[0m\u001b[0m\n\u001b[0;32m----> 8\u001b[0;31m \u001b[0mnp\u001b[0m\u001b[0;34m.\u001b[0m\u001b[0mconcatenate\u001b[0m\u001b[0;34m(\u001b[0m\u001b[0;34m(\u001b[0m\u001b[0marr1\u001b[0m\u001b[0;34m,\u001b[0m \u001b[0marr2\u001b[0m\u001b[0;34m)\u001b[0m\u001b[0;34m,\u001b[0m \u001b[0maxis\u001b[0m\u001b[0;34m=\u001b[0m\u001b[0;36m0\u001b[0m\u001b[0;34m)\u001b[0m\u001b[0;34m\u001b[0m\u001b[0;34m\u001b[0m\u001b[0m\n\u001b[0m",
      "\u001b[0;32m<__array_function__ internals>\u001b[0m in \u001b[0;36mconcatenate\u001b[0;34m(*args, **kwargs)\u001b[0m\n",
      "\u001b[0;31mValueError\u001b[0m: all the input array dimensions for the concatenation axis must match exactly, but along dimension 1, the array at index 0 has size 2 and the array at index 1 has size 3"
     ]
    }
   ],
   "source": [
    "# Example 3 - breaking (to illustrate when it breaks)\n",
    "arr1 = [[1, 2], \n",
    "        [3, 4.]]\n",
    "\n",
    "arr2 = [[5, 6, 7], \n",
    "        [8, 9, 10]]\n",
    "\n",
    "np.concatenate((arr1, arr2), axis=0)"
   ]
  },
  {
   "cell_type": "markdown",
   "id": "42463345",
   "metadata": {},
   "source": [
    "Explanation about example (why it breaks and how to fix it)"
   ]
  },
  {
   "cell_type": "markdown",
   "id": "c3b950f9",
   "metadata": {},
   "source": [
    "Some closing comments about when to use this function."
   ]
  },
  {
   "cell_type": "markdown",
   "id": "92f062b7",
   "metadata": {},
   "source": [
    "# In the above example we want to put the matrix element from top to bottom, so the first matrix has 2 coloumn , and second matrix (arr2) has 3 coloumn while putting top to bottom wise the empty space no matrix element has been leftof creating error.\n",
    "\n",
    "\n",
    "\n",
    "# So to solve this problem the concatination will be done by axis=1, which mean element after 2nd coloumn matrix element can be put aside np.concatenate((arr1, arr2), axis=0)"
   ]
  },
  {
   "cell_type": "code",
   "execution_count": 59,
   "id": "398eb56d",
   "metadata": {},
   "outputs": [
    {
     "data": {
      "application/javascript": [
       "window.require && require([\"base/js/namespace\"],function(Jupyter){Jupyter.notebook.save_checkpoint()})"
      ],
      "text/plain": [
       "<IPython.core.display.Javascript object>"
      ]
     },
     "metadata": {},
     "output_type": "display_data"
    },
    {
     "name": "stdout",
     "output_type": "stream",
     "text": [
      "[jovian] Updating notebook \"jhagautamkumar362/zerotoanalyst-numpy-array-operations-2b15d\" on https://jovian.ai\u001b[0m\n",
      "[jovian] Committed successfully! https://jovian.ai/jhagautamkumar362/zerotoanalyst-numpy-array-operations-2b15d\u001b[0m\n"
     ]
    },
    {
     "data": {
      "text/plain": [
       "'https://jovian.ai/jhagautamkumar362/zerotoanalyst-numpy-array-operations-2b15d'"
      ]
     },
     "execution_count": 59,
     "metadata": {},
     "output_type": "execute_result"
    }
   ],
   "source": [
    "jovian.commit()"
   ]
  },
  {
   "cell_type": "markdown",
   "id": "57bd66af",
   "metadata": {},
   "source": [
    "## Function 2 - ???\n",
    "\n",
    "Add some explanations"
   ]
  },
  {
   "cell_type": "code",
   "execution_count": 36,
   "id": "888ea3b2",
   "metadata": {},
   "outputs": [
    {
     "name": "stdout",
     "output_type": "stream",
     "text": [
      "Eigen value which is principal stress in Mpa {} of the given stress matrix [ 61.09772229 -31.09772229]\n",
      "Eigen vector  which is {principal direction} corresponding to given stress matrix is [[ 0.93788501 -0.34694625]\n",
      " [ 0.34694625  0.93788501]]\n"
     ]
    }
   ],
   "source": [
    "stress=[[50, 30],\n",
    "        [30 ,-20]]\n",
    "'''This is example of the 2D-Stess matrix whose pricipal stress need to find and its orentation means in \n",
    "which direction principal stresses occur'''\n",
    "\n",
    "w, v = np.linalg.eig(stress)\n",
    "\n",
    "print(\"Eigen value which is principal stress in Mpa {} of the given stress matrix\",w) \n",
    "print(\"Eigen vector  which is {principal direction} corresponding to given stress matrix is\",v)"
   ]
  },
  {
   "cell_type": "markdown",
   "id": "d662f2ec",
   "metadata": {},
   "source": [
    "# In this example we will try to use linear algebra module of numpy  to solve for finding the principal stress for the given stress matrix of element and their direction in which it occur"
   ]
  },
  {
   "cell_type": "code",
   "execution_count": 47,
   "id": "359bee72",
   "metadata": {},
   "outputs": [
    {
     "name": "stdout",
     "output_type": "stream",
     "text": [
      "Eigen value which is principal stress in Mpa {} of the given stress matrix [53.90730475 15.68908952 -0.69639427]\n",
      "Eigen vector  which is {principal direction} corresponding to given stress matrix is [[-0.71234876 -0.8816023  -0.64806545]\n",
      " [-0.59523137  0.28201197 -0.03386517]\n",
      " [-0.37183177  0.37847936  0.76083134]]\n"
     ]
    }
   ],
   "source": [
    "# Example 2 - working\n",
    "\n",
    "\n",
    "\n",
    "# This is 3D stress matrix which is 2nd order tensor \n",
    "\n",
    "sigma1=[[30.8,10.6,27.3],\n",
    "       [10.6,34.6,10.6],\n",
    "       [03.5,27.3,3.5]]\n",
    "\n",
    "w, v = np.linalg.eig(sigma1)\n",
    "\n",
    "print(\"Eigen value which is principal stress in Mpa {} of the given stress matrix\",w) \n",
    "print(\"Eigen vector  which is {principal direction} corresponding to given stress matrix is\",v)\n",
    "\n"
   ]
  },
  {
   "cell_type": "markdown",
   "id": "fa129505",
   "metadata": {},
   "source": [
    "# Now on finding the direction along which these principal stress occur is the know as Principal direction"
   ]
  },
  {
   "cell_type": "markdown",
   "id": "b255fd76",
   "metadata": {},
   "source": [
    "$\\left|\n",
    "\\matrix{\\sigma_{11}-\\lambda & \\sigma_{12} & \\sigma_{13} \\\\\n",
    "\t\\sigma_{12} & \\sigma_{22}-\\lambda & \\sigma_{23} \\\\\n",
    "\t\\sigma_{13} & \\sigma_{23} & \\sigma_{33}-\\lambda } \n",
    "\\right|\n",
    "= 0$\n",
    "\n",
    "\n",
    "$\\lambda_i$ is Principal stress"
   ]
  },
  {
   "cell_type": "markdown",
   "id": "6cb493b5",
   "metadata": {},
   "source": [
    "$\\begin{eqnarray}\n",
    "\\lambda^3 - (\\sigma_{11} + \\sigma_{22} + \\sigma_{33}) \\lambda^2 + \n",
    "(\\sigma_{11}\\sigma_{22}+\\sigma_{22}\\sigma_{33}+\\sigma_{33}\\sigma_{11}-\\sigma^2_{12}-\\sigma^2_{13}-\\sigma^2_{23}) \\lambda - \\\\\n",
    "(\\sigma_{11}\\sigma_{22}\\sigma_{33}-\\sigma_{11}\\sigma^2_{23}-\\sigma_{22}\\sigma^2_{13}-\\sigma_{33}\\sigma^2_{12}+2\\sigma_{12}\\sigma_{13}\\sigma_{23}) = 0\n",
    "\\end{eqnarray}$ On finding the determinant of the given matrix and equating to zero to find $\\lambda_i$ where $i \\rightarrow 3$"
   ]
  },
  {
   "cell_type": "code",
   "execution_count": 49,
   "id": "ebb5ff4f",
   "metadata": {},
   "outputs": [
    {
     "name": "stdout",
     "output_type": "stream",
     "text": [
      "Eigen value which is principal stress in Mpa {} of the given stress matrix [ 67.36782942 -24.95331831  15.58548889]\n",
      "Eigen vector  which is {principal direction} corresponding to given stress matrix is [[ 0.90083536  0.43318519 -0.02909041]\n",
      " [ 0.35319202 -0.77015372 -0.53114843]\n",
      " [ 0.25248972 -0.46820278  0.84677925]]\n"
     ]
    }
   ],
   "source": [
    "# Example 3 - breaking\n",
    "\n",
    "sigma2=[[50,30,20],\n",
    "       [30,-2,-10],\n",
    "       [20,-10,10]]\n",
    "\n",
    "w, v = np.linalg.eig(sigma2)\n",
    "print(\"Eigen value which is principal stress in Mpa {} of the given stress matrix\",w) \n",
    "print(\"Eigen vector  which is {principal direction} corresponding to given stress matrix is\",v)\n"
   ]
  },
  {
   "cell_type": "markdown",
   "id": "fde4ddfd",
   "metadata": {},
   "source": [
    "# so from the above equation we will get 3 eigen value and resbustituting again each eigen values in the matrix |stress-lamda|*lamda_i , and for corresponding to each lamda which is principal stress there will be direction which is eigen vector called principal direction ..given by w in the code\n"
   ]
  },
  {
   "cell_type": "markdown",
   "id": "c4b4b9f9",
   "metadata": {},
   "source": [
    "Some closing comments about when to use this function."
   ]
  },
  {
   "cell_type": "code",
   "execution_count": 50,
   "id": "7de378c5",
   "metadata": {
    "scrolled": true
   },
   "outputs": [
    {
     "data": {
      "application/javascript": [
       "window.require && require([\"base/js/namespace\"],function(Jupyter){Jupyter.notebook.save_checkpoint()})"
      ],
      "text/plain": [
       "<IPython.core.display.Javascript object>"
      ]
     },
     "metadata": {},
     "output_type": "display_data"
    },
    {
     "name": "stdout",
     "output_type": "stream",
     "text": [
      "[jovian] Updating notebook \"jhagautamkumar362/zerotoanalyst-numpy-array-operations-2b15d\" on https://jovian.ai\u001b[0m\n",
      "[jovian] Committed successfully! https://jovian.ai/jhagautamkumar362/zerotoanalyst-numpy-array-operations-2b15d\u001b[0m\n"
     ]
    },
    {
     "data": {
      "text/plain": [
       "'https://jovian.ai/jhagautamkumar362/zerotoanalyst-numpy-array-operations-2b15d'"
      ]
     },
     "execution_count": 50,
     "metadata": {},
     "output_type": "execute_result"
    }
   ],
   "source": [
    "jovian.commit()"
   ]
  },
  {
   "cell_type": "markdown",
   "id": "9a6319c2",
   "metadata": {},
   "source": [
    "## Function 3 - ???\n",
    "\n",
    "Add some explanations"
   ]
  },
  {
   "cell_type": "code",
   "execution_count": 55,
   "id": "698256b6",
   "metadata": {},
   "outputs": [],
   "source": [
    "# Example 1 - working\n",
    "x = np.arange(12).reshape(3,4)"
   ]
  },
  {
   "cell_type": "markdown",
   "id": "f458bc56",
   "metadata": {},
   "source": [
    "numpy module will arange (12) which is coming like 0 to 12 and then afterward break into 3 rows and 4  coloumns so that total element 12"
   ]
  },
  {
   "cell_type": "code",
   "execution_count": 56,
   "id": "05d0196d",
   "metadata": {},
   "outputs": [],
   "source": [
    "# Example 2 - working\n",
    "y = np.arange(6).reshape(3,2)"
   ]
  },
  {
   "cell_type": "markdown",
   "id": "bfe6cffb",
   "metadata": {},
   "source": [
    "First create the number from  0 to 6 "
   ]
  },
  {
   "cell_type": "code",
   "execution_count": 57,
   "id": "9d12ffd4",
   "metadata": {},
   "outputs": [],
   "source": [
    "# Example 3 - breaking\n",
    "z=np.arange(16).reshape(4,4)"
   ]
  },
  {
   "cell_type": "markdown",
   "id": "8f87cdbc",
   "metadata": {},
   "source": [
    "and then put in the form of the 4 rows and 4 coloumns"
   ]
  },
  {
   "cell_type": "markdown",
   "id": "ffdfbec8",
   "metadata": {},
   "source": [
    "Some closing comments about when to use this function."
   ]
  },
  {
   "cell_type": "code",
   "execution_count": null,
   "id": "d581e2dc",
   "metadata": {},
   "outputs": [
    {
     "data": {
      "application/javascript": [
       "window.require && require([\"base/js/namespace\"],function(Jupyter){Jupyter.notebook.save_checkpoint()})"
      ],
      "text/plain": [
       "<IPython.core.display.Javascript object>"
      ]
     },
     "metadata": {},
     "output_type": "display_data"
    }
   ],
   "source": [
    "jovian.commit()"
   ]
  },
  {
   "cell_type": "markdown",
   "id": "2c831e47",
   "metadata": {},
   "source": [
    "## Function 4 - ???\n",
    "\n",
    "In this example we will use numpy module for finding the fourier transform  of the signal , this excersie is useful in digital signal processing "
   ]
  },
  {
   "cell_type": "code",
   "execution_count": 30,
   "id": "2babc25d",
   "metadata": {},
   "outputs": [
    {
     "name": "stderr",
     "output_type": "stream",
     "text": [
      "/opt/conda/lib/python3.9/site-packages/numpy/core/_asarray.py:102: ComplexWarning: Casting complex values to real discards the imaginary part\n",
      "  return array(a, dtype, copy=False, order=order)\n"
     ]
    },
    {
     "data": {
      "text/plain": [
       "Text(0, 0.5, 'fourier transform')"
      ]
     },
     "execution_count": 30,
     "metadata": {},
     "output_type": "execute_result"
    },
    {
     "data": {
      "image/png": "[encoded data removed]",
      "text/plain": [
       "<Figure size 432x288 with 1 Axes>"
      ]
     },
     "metadata": {
      "needs_background": "light"
     },
     "output_type": "display_data"
    }
   ],
   "source": [
    "# Example 1 - working\n",
    "import numpy as np\n",
    "from numpy.fft import  fft,fftfreq\n",
    "import matplotlib.pyplot as plt\n",
    "x=np.linspace(0,100,90)\n",
    "omega=2*np.pi/len(x)\n",
    "\n",
    "x_1=1.0*np.sin(1*omega*x)\n",
    "y=fft(x_1)\n",
    "plt.plot(x_1,y)\n",
    "plt.xlabel(\"x\")\n",
    "plt.ylabel(\"fourier transform\")"
   ]
  },
  {
   "cell_type": "markdown",
   "id": "5deb5029",
   "metadata": {},
   "source": [
    "IN the above example 1 for the given signal, finding the fouriert transform "
   ]
  },
  {
   "cell_type": "code",
   "execution_count": 33,
   "id": "56214a39",
   "metadata": {},
   "outputs": [
    {
     "name": "stderr",
     "output_type": "stream",
     "text": [
      "/opt/conda/lib/python3.9/site-packages/numpy/core/_asarray.py:102: ComplexWarning: Casting complex values to real discards the imaginary part\n",
      "  return array(a, dtype, copy=False, order=order)\n"
     ]
    },
    {
     "data": {
      "text/plain": [
       "Text(0, 0.5, 'fourier transform')"
      ]
     },
     "execution_count": 33,
     "metadata": {},
     "output_type": "execute_result"
    },
    {
     "data": {
      "image/png": "[encoded data removed]",
      "text/plain": [
       "<Figure size 432x288 with 1 Axes>"
      ]
     },
     "metadata": {
      "needs_background": "light"
     },
     "output_type": "display_data"
    }
   ],
   "source": [
    "# Example 2 - working\n",
    "\n",
    "\n",
    "x_2=1.0*np.cos(1*omega*x)\n",
    "y=fft(x_1)\n",
    "plt.plot(x_1,y)\n",
    "plt.xlabel(\"x\")\n",
    "plt.ylabel(\"fourier transform\")"
   ]
  },
  {
   "cell_type": "markdown",
   "id": "1bf40101",
   "metadata": {},
   "source": [
    "Explanation about example"
   ]
  },
  {
   "cell_type": "code",
   "execution_count": 35,
   "id": "9f6555bc",
   "metadata": {},
   "outputs": [
    {
     "name": "stderr",
     "output_type": "stream",
     "text": [
      "/opt/conda/lib/python3.9/site-packages/numpy/core/_asarray.py:102: ComplexWarning: Casting complex values to real discards the imaginary part\n",
      "  return array(a, dtype, copy=False, order=order)\n"
     ]
    },
    {
     "data": {
      "text/plain": [
       "Text(0, 0.5, 'fourier transform')"
      ]
     },
     "execution_count": 35,
     "metadata": {},
     "output_type": "execute_result"
    },
    {
     "data": {
      "image/png": "[encoded data removed]",
      "text/plain": [
       "<Figure size 432x288 with 1 Axes>"
      ]
     },
     "metadata": {
      "needs_background": "light"
     },
     "output_type": "display_data"
    }
   ],
   "source": [
    "# Example 3 - breaking\n",
    "x=np.linspace(0,100,90)\n",
    "omega=2*np.pi/len(x)\n",
    "\n",
    "x_3=1.0*np.sin(1*omega*x)\n",
    "x=x_1+x-2+x_3\n",
    "y=fft(x)\n",
    "plt.plot(x_1,y)\n",
    "plt.xlabel(\"x\")\n",
    "plt.ylabel(\"fourier transform\")"
   ]
  },
  {
   "cell_type": "markdown",
   "id": "e2e2cb7d",
   "metadata": {},
   "source": [
    "here taken the sum of all signal and finding the fourier transform of the given signal "
   ]
  },
  {
   "cell_type": "markdown",
   "id": "3acca035",
   "metadata": {},
   "source": [
    "Some closing comments about when to use this function."
   ]
  },
  {
   "cell_type": "code",
   "execution_count": null,
   "id": "fe74f0b3",
   "metadata": {},
   "outputs": [
    {
     "data": {
      "application/javascript": [
       "window.require && require([\"base/js/namespace\"],function(Jupyter){Jupyter.notebook.save_checkpoint()})"
      ],
      "text/plain": [
       "<IPython.core.display.Javascript object>"
      ]
     },
     "metadata": {},
     "output_type": "display_data"
    }
   ],
   "source": [
    "jovian.commit()"
   ]
  },
  {
   "cell_type": "markdown",
   "id": "49547167",
   "metadata": {},
   "source": [
    "## Function 5 - ???\n",
    "\n",
    "One of the most frequently occuring problem in building the model is missing values because very ofen the all the required marked field in the data is ignored or not filled or if filled not proper values is being inserted. So we need to make some strategy for dealing with this problem . So using pandas dataframe and numpy module we will fill the blank value"
   ]
  },
  {
   "cell_type": "code",
   "execution_count": 15,
   "id": "42becd30",
   "metadata": {},
   "outputs": [
    {
     "data": {
      "text/plain": [
       "[193010006, 170400458, 170044568, '']"
      ]
     },
     "execution_count": 15,
     "metadata": {},
     "output_type": "execute_result"
    }
   ],
   "source": [
    "import pandas as pd\n",
    "import numpy as np\n",
    "Jovian_student_detail={\"student_name\":['Gautam kumar Jha','Avinash Kumar','Siddhant Ujjian','Aakash NS'],\n",
    "               'student_roll':[193010006,170400458,170044568,\"\"]}\n",
    "df=pd.DataFrame(Jovian_student_detail)\n",
    "df.head()\n",
    "\n",
    "# in this example created rollno for Aakash NS has been left blank . and dataframe has been used which is most frequently used in making model \n",
    "student_roll_list=df[\"student_roll\"].values.tolist() # Conversion to list \n",
    "student_roll_list"
   ]
  },
  {
   "cell_type": "markdown",
   "id": "f8387da8",
   "metadata": {},
   "source": [
    "There exist pandas dataframe method which is dataframe.fillna(value) method one of the another method which is being implimented on this notebook , we can convert the that particular coloumn into list and use np.where function to locate and fill the required value inplace of that"
   ]
  },
  {
   "cell_type": "code",
   "execution_count": 24,
   "id": "eda51db5",
   "metadata": {},
   "outputs": [
    {
     "data": {
      "text/html": [
       "<div>\n",
       "<style scoped>\n",
       "    .dataframe tbody tr th:only-of-type {\n",
       "        vertical-align: middle;\n",
       "    }\n",
       "\n",
       "    .dataframe tbody tr th {\n",
       "        vertical-align: top;\n",
       "    }\n",
       "\n",
       "    .dataframe thead th {\n",
       "        text-align: right;\n",
       "    }\n",
       "</style>\n",
       "<table border=\"1\" class=\"dataframe\">\n",
       "  <thead>\n",
       "    <tr style=\"text-align: right;\">\n",
       "      <th></th>\n",
       "      <th>student_name</th>\n",
       "      <th>student_roll</th>\n",
       "    </tr>\n",
       "  </thead>\n",
       "  <tbody>\n",
       "    <tr>\n",
       "      <th>0</th>\n",
       "      <td>Gautam kumar Jha</td>\n",
       "      <td>193010006</td>\n",
       "    </tr>\n",
       "    <tr>\n",
       "      <th>1</th>\n",
       "      <td>Avinash Kumar</td>\n",
       "      <td>170400458</td>\n",
       "    </tr>\n",
       "    <tr>\n",
       "      <th>2</th>\n",
       "      <td>Siddhant Ujjian</td>\n",
       "      <td>170044568</td>\n",
       "    </tr>\n",
       "    <tr>\n",
       "      <th>3</th>\n",
       "      <td>Aakash NS</td>\n",
       "      <td>Roll_missing</td>\n",
       "    </tr>\n",
       "  </tbody>\n",
       "</table>\n",
       "</div>"
      ],
      "text/plain": [
       "       student_name  student_roll\n",
       "0  Gautam kumar Jha     193010006\n",
       "1     Avinash Kumar     170400458\n",
       "2   Siddhant Ujjian     170044568\n",
       "3         Aakash NS  Roll_missing"
      ]
     },
     "execution_count": 24,
     "metadata": {},
     "output_type": "execute_result"
    }
   ],
   "source": [
    "# Example 2 - working\n",
    "arr = np.array(student_roll_list)\n",
    "\n",
    "arr[np.where(arr=='')] = 'Roll_missing'   # here we have use the where module of np and check the condition arr='' and replace with 0 which is \n",
    "\n",
    "#being done by ='Roll_missing'\n",
    "#Now again we can use arr in dictonary and convert into dataframe\n",
    "\n",
    "Jovian_student_detail={\"student_name\":['Gautam kumar Jha','Avinash Kumar','Siddhant Ujjian','Aakash NS'],\n",
    "               'student_roll':arr}\n",
    "df=pd.DataFrame(Jovian_student_detail)\n",
    "df.head()\n",
    "\n",
    "# Now we can see that those studen_roll is missing has been marked "
   ]
  },
  {
   "cell_type": "markdown",
   "id": "02c5215c",
   "metadata": {},
   "source": [
    "Explanation about example"
   ]
  },
  {
   "cell_type": "code",
   "execution_count": 26,
   "id": "06116824",
   "metadata": {},
   "outputs": [
    {
     "data": {
      "text/html": [
       "<div>\n",
       "<style scoped>\n",
       "    .dataframe tbody tr th:only-of-type {\n",
       "        vertical-align: middle;\n",
       "    }\n",
       "\n",
       "    .dataframe tbody tr th {\n",
       "        vertical-align: top;\n",
       "    }\n",
       "\n",
       "    .dataframe thead th {\n",
       "        text-align: right;\n",
       "    }\n",
       "</style>\n",
       "<table border=\"1\" class=\"dataframe\">\n",
       "  <thead>\n",
       "    <tr style=\"text-align: right;\">\n",
       "      <th></th>\n",
       "      <th>student_name</th>\n",
       "      <th>student_roll</th>\n",
       "    </tr>\n",
       "  </thead>\n",
       "  <tbody>\n",
       "    <tr>\n",
       "      <th>0</th>\n",
       "      <td>Gautam kumar Jha</td>\n",
       "      <td>193010006</td>\n",
       "    </tr>\n",
       "    <tr>\n",
       "      <th>1</th>\n",
       "      <td>Avinash Kumar</td>\n",
       "      <td>170400458</td>\n",
       "    </tr>\n",
       "    <tr>\n",
       "      <th>2</th>\n",
       "      <td>Siddhant Ujjian</td>\n",
       "      <td>170044568</td>\n",
       "    </tr>\n",
       "    <tr>\n",
       "      <th>3</th>\n",
       "      <td>Aakash NS</td>\n",
       "      <td>Data missing value</td>\n",
       "    </tr>\n",
       "  </tbody>\n",
       "</table>\n",
       "</div>"
      ],
      "text/plain": [
       "       student_name        student_roll\n",
       "0  Gautam kumar Jha           193010006\n",
       "1     Avinash Kumar           170400458\n",
       "2   Siddhant Ujjian           170044568\n",
       "3         Aakash NS  Data missing value"
      ]
     },
     "execution_count": 26,
     "metadata": {},
     "output_type": "execute_result"
    }
   ],
   "source": [
    "# Example 3 - breaking\n",
    "Jovian_student_detail={\"student_name\":['Gautam kumar Jha','Avinash Kumar','Siddhant Ujjian','Aakash NS'],\n",
    "               'student_roll':[193010006,170400458,170044568,\"\"]}\n",
    "df=pd.DataFrame(Jovian_student_detail)\n",
    "df.head()\n",
    "\n",
    "# in this example created rollno for Aakash NS has been left blank . and dataframe has been used which is most frequently used in making model \n",
    "student_roll_list=df[\"student_roll\"].values.tolist() # Conversion to list \n",
    "\n",
    "# in this example created rollno for Aakash NS has been left blank . and dataframe has been used which is most frequently used in making model \n",
    "\n",
    "\n",
    "arr = np.array(student_roll_list)\n",
    "\n",
    "arr[np.where(arr=='')] = 'Data missing value'   # here we have use the where module of np and check the condition arr='' and replace with 0 which is \n",
    "\n",
    "#being done by ='Data missing value'\n",
    "#Now again we can use arr in dictonary and convert into dataframe\n",
    "\n",
    "Jovian_student_detail={\"student_name\":['Gautam kumar Jha','Avinash Kumar','Siddhant Ujjian','Aakash NS'],\n",
    "               'student_roll':arr}\n",
    "df=pd.DataFrame(Jovian_student_detail)\n",
    "df.head()\n",
    "\n",
    "\n",
    "\n",
    "\n",
    "\n",
    "\n"
   ]
  },
  {
   "cell_type": "markdown",
   "id": "29e6f455",
   "metadata": {},
   "source": [
    "Explanation about example (why it breaks and how to fix it)"
   ]
  },
  {
   "cell_type": "code",
   "execution_count": 32,
   "id": "b143bf14",
   "metadata": {},
   "outputs": [
    {
     "data": {
      "text/html": [
       "<div>\n",
       "<style scoped>\n",
       "    .dataframe tbody tr th:only-of-type {\n",
       "        vertical-align: middle;\n",
       "    }\n",
       "\n",
       "    .dataframe tbody tr th {\n",
       "        vertical-align: top;\n",
       "    }\n",
       "\n",
       "    .dataframe thead th {\n",
       "        text-align: right;\n",
       "    }\n",
       "</style>\n",
       "<table border=\"1\" class=\"dataframe\">\n",
       "  <thead>\n",
       "    <tr style=\"text-align: right;\">\n",
       "      <th></th>\n",
       "      <th>student_name</th>\n",
       "      <th>student_roll</th>\n",
       "    </tr>\n",
       "  </thead>\n",
       "  <tbody>\n",
       "    <tr>\n",
       "      <th>0</th>\n",
       "      <td>Student_name mi</td>\n",
       "      <td>Student_name mi</td>\n",
       "    </tr>\n",
       "    <tr>\n",
       "      <th>1</th>\n",
       "      <td>Avinash Kumar</td>\n",
       "      <td>Avinash Kumar</td>\n",
       "    </tr>\n",
       "    <tr>\n",
       "      <th>2</th>\n",
       "      <td>Siddhant Ujjian</td>\n",
       "      <td>Siddhant Ujjian</td>\n",
       "    </tr>\n",
       "    <tr>\n",
       "      <th>3</th>\n",
       "      <td>Aakash NS</td>\n",
       "      <td>Aakash NS</td>\n",
       "    </tr>\n",
       "  </tbody>\n",
       "</table>\n",
       "</div>"
      ],
      "text/plain": [
       "      student_name     student_roll\n",
       "0  Student_name mi  Student_name mi\n",
       "1    Avinash Kumar    Avinash Kumar\n",
       "2  Siddhant Ujjian  Siddhant Ujjian\n",
       "3        Aakash NS        Aakash NS"
      ]
     },
     "execution_count": 32,
     "metadata": {},
     "output_type": "execute_result"
    }
   ],
   "source": [
    "# Other example\n",
    "\n",
    "Jovian_student_detail={\"student_name\":['','Avinash Kumar','Siddhant Ujjian','Aakash NS'],\n",
    "               'student_roll':[193010006,170400458,170044568,\"\"]}\n",
    "df=pd.DataFrame(Jovian_student_detail)\n",
    "df.head()\n",
    "\n",
    "# in this example created rollno for Aakash NS has been left blank . and dataframe has been used which is most frequently used in making model \n",
    "student_name_list=df[\"student_name\"].values.tolist() # Conversion to list \n",
    "\n",
    "# in this example created rollno for Aakash NS has been left blank . and dataframe has been used which is most frequently used in making model \n",
    "\n",
    "\n",
    "arr = np.array(student_name_list)\n",
    "\n",
    "arr[np.where(arr=='')] = 'Student_name missing value'   # here we have use the where module of np and check the condition arr='' and replace with 0 which is \n",
    "\n",
    "#being done by ='Data missing value'\n",
    "#Now again we can use arr in dictonary and convert into dataframe\n",
    "\n",
    "Jovian_student_detail={\"student_name\":arr,\n",
    "               'student_roll':arr}\n",
    "df=pd.DataFrame(Jovian_student_detail)\n",
    "df.head()\n",
    " # so here in the coloumn where student name has been missing being marked "
   ]
  },
  {
   "cell_type": "markdown",
   "id": "b7288b47",
   "metadata": {},
   "source": [
    "This method could be very useful in handling the missing in the csv format table while making model ,if not done could lead to reduce in performance of the model and accquarcy "
   ]
  },
  {
   "cell_type": "code",
   "execution_count": 33,
   "id": "3c20873f",
   "metadata": {},
   "outputs": [
    {
     "data": {
      "application/javascript": [
       "window.require && require([\"base/js/namespace\"],function(Jupyter){Jupyter.notebook.save_checkpoint()})"
      ],
      "text/plain": [
       "<IPython.core.display.Javascript object>"
      ]
     },
     "metadata": {},
     "output_type": "display_data"
    },
    {
     "name": "stdout",
     "output_type": "stream",
     "text": [
      "[jovian] Updating notebook \"jhagautamkumar362/zerotoanalyst-numpy-array-operations-2b15d\" on https://jovian.ai\u001b[0m\n",
      "[jovian] Committed successfully! https://jovian.ai/jhagautamkumar362/zerotoanalyst-numpy-array-operations-2b15d\u001b[0m\n"
     ]
    },
    {
     "data": {
      "text/plain": [
       "'https://jovian.ai/jhagautamkumar362/zerotoanalyst-numpy-array-operations-2b15d'"
      ]
     },
     "execution_count": 33,
     "metadata": {},
     "output_type": "execute_result"
    }
   ],
   "source": [
    "jovian.commit()"
   ]
  },
  {
   "cell_type": "markdown",
   "id": "8dc8fed5",
   "metadata": {},
   "source": [
    "## Conclusion\n",
    "\n",
    "Summarize what was covered in this notebook, and where to go next"
   ]
  },
  {
   "cell_type": "markdown",
   "id": "55868ce6",
   "metadata": {},
   "source": [
    "## Reference Links\n",
    "Provide links to your references and other interesting articles about Numpy arrays:\n",
    "* Numpy official tutorial : https://numpy.org/doc/stable/user/quickstart.html\n",
    "* ..."
   ]
  },
  {
   "cell_type": "code",
   "execution_count": 34,
   "id": "968293f4",
   "metadata": {},
   "outputs": [
    {
     "data": {
      "application/javascript": [
       "window.require && require([\"base/js/namespace\"],function(Jupyter){Jupyter.notebook.save_checkpoint()})"
      ],
      "text/plain": [
       "<IPython.core.display.Javascript object>"
      ]
     },
     "metadata": {},
     "output_type": "display_data"
    },
    {
     "name": "stdout",
     "output_type": "stream",
     "text": [
      "[jovian] Updating notebook \"jhagautamkumar362/zerotoanalyst-numpy-array-operations-2b15d\" on https://jovian.ai\u001b[0m\n",
      "[jovian] Committed successfully! https://jovian.ai/jhagautamkumar362/zerotoanalyst-numpy-array-operations-2b15d\u001b[0m\n"
     ]
    },
    {
     "data": {
      "text/plain": [
       "'https://jovian.ai/jhagautamkumar362/zerotoanalyst-numpy-array-operations-2b15d'"
      ]
     },
     "execution_count": 34,
     "metadata": {},
     "output_type": "execute_result"
    }
   ],
   "source": [
    "jovian.commit()"
   ]
  },
  {
   "cell_type": "code",
   "execution_count": null,
   "id": "92cf2eeb",
   "metadata": {},
   "outputs": [],
   "source": []
  }
 ],
 "metadata": {
  "kernelspec": {
   "display_name": "Python 3 (ipykernel)",
   "language": "python",
   "name": "python3"
  },
  "language_info": {
   "codemirror_mode": {
    "name": "ipython",
    "version": 3
   },
   "file_extension": ".py",
   "mimetype": "text/x-python",
   "name": "python",
   "nbconvert_exporter": "python",
   "pygments_lexer": "ipython3",
   "version": "3.9.6"
  }
 },
 "nbformat": 4,
 "nbformat_minor": 5
}
